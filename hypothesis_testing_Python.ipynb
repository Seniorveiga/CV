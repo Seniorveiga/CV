{
 "cells": [
  {
   "cell_type": "markdown",
   "metadata": {},
   "source": [
    "# Hypothesis tests"
   ]
  },
  {
   "cell_type": "markdown",
   "metadata": {},
   "source": [
    "In this Notebook I´m going to clarify some aspects of one fundamental data analyst tool: **Hypothesis tests**\n",
    "\n",
    "We will have a walk over:\n",
    "\n",
    "- $\\mathit{z}$-Scores\n",
    "- $\\mathit{p}$-Values\n",
    "- Confidence Intervals\n",
    "- $\\mathit{t}$-Tests\n",
    "- ANOVA\n",
    "- Tests for single and two proportions\n",
    "- Proportions $\\mathit{z}$-test\n",
    "- ${Chi^{2}}$ tests\n",
    "- Wilcoxon tests\n",
    "- Wilcoxon-Man-Whotney tests\n",
    "- Kruskal-Wallis tests\n",
    "\n",
    "## Definitions\n",
    "\n",
    "So, first of all, what is a hypothesis tests?\n",
    "\n",
    "**Hypothesis tests** is a mathematical procedure that allow us to generalize hypothesis / properties that we supposed based on our data, so what we deduce from our sample could be a real property of that population.\n",
    "\n",
    "**A/B Testing** is a process that allow us to check outcomes of competing scenarios and decide which way to proceed depending of the results that this scenarios provide us. \n",
    "- For example, if we are in the medicine field, a common hypothesis test is to separate two groups of people to give them medicine and placebo respectivelly in order to see if the medicine really works or it is based on the suggestion of the patient. \n",
    "- Another example is when you perform a separation in a website in order to have two websites and see the SEO, how it is positioning, how is it listed on the internet and decide which interface is better.\n",
    "  \n",
    "A/B Testing is the main application of Hypothesis tests.\n",
    "\n",
    "![\"A/B Testing Image\"](https://www.optimizely.com/contentassets/08726e145f1b4743a0ba2f30c0447b76/ab-testing.png)"
   ]
  },
  {
   "cell_type": "markdown",
   "metadata": {},
   "source": [
    "# Hypothesis testing fundamentals\n",
    "\n",
    "To learn more about hypothesis tests, we will be working with two datasets, one that is called *late_shipments* and the other one called *republican_votes*. Right now we will be using only the first one in order to understand more about hypothesis tests.\n",
    "\n",
    "The *late_shipments* dataset contains supply chain data on the delivery of medical supplies. Each row represents one delivery of a part. \n",
    "- The **\"late\"** columns denotes whether or not the part was delivered late. A value of \"Yes\" means that the part was delivered late, and a value of \"No\" means the part was delivered on time."
   ]
  },
  {
   "cell_type": "markdown",
   "metadata": {},
   "source": [
    "## Packages and dataset main idea"
   ]
  },
  {
   "cell_type": "code",
   "execution_count": 24,
   "metadata": {},
   "outputs": [],
   "source": [
    "import pandas as pd\n",
    "import pyarrow.feather as feather\n",
    "import numpy as np\n",
    "from scipy.stats import norm"
   ]
  },
  {
   "cell_type": "markdown",
   "metadata": {},
   "source": [
    "Let´s find some information first about the shipments, how many of them are late shipments? First, as we usually do we have a previsualization of the datasets."
   ]
  },
  {
   "cell_type": "code",
   "execution_count": 25,
   "metadata": {},
   "outputs": [
    {
     "data": {
      "text/html": [
       "<div>\n",
       "<style scoped>\n",
       "    .dataframe tbody tr th:only-of-type {\n",
       "        vertical-align: middle;\n",
       "    }\n",
       "\n",
       "    .dataframe tbody tr th {\n",
       "        vertical-align: top;\n",
       "    }\n",
       "\n",
       "    .dataframe thead th {\n",
       "        text-align: right;\n",
       "    }\n",
       "</style>\n",
       "<table border=\"1\" class=\"dataframe\">\n",
       "  <thead>\n",
       "    <tr style=\"text-align: right;\">\n",
       "      <th></th>\n",
       "      <th>id</th>\n",
       "      <th>country</th>\n",
       "      <th>managed_by</th>\n",
       "      <th>fulfill_via</th>\n",
       "      <th>vendor_inco_term</th>\n",
       "      <th>shipment_mode</th>\n",
       "      <th>late_delivery</th>\n",
       "      <th>late</th>\n",
       "      <th>product_group</th>\n",
       "      <th>sub_classification</th>\n",
       "      <th>...</th>\n",
       "      <th>line_item_quantity</th>\n",
       "      <th>line_item_value</th>\n",
       "      <th>pack_price</th>\n",
       "      <th>unit_price</th>\n",
       "      <th>manufacturing_site</th>\n",
       "      <th>first_line_designation</th>\n",
       "      <th>weight_kilograms</th>\n",
       "      <th>freight_cost_usd</th>\n",
       "      <th>freight_cost_groups</th>\n",
       "      <th>line_item_insurance_usd</th>\n",
       "    </tr>\n",
       "  </thead>\n",
       "  <tbody>\n",
       "    <tr>\n",
       "      <th>0</th>\n",
       "      <td>36203.0</td>\n",
       "      <td>Nigeria</td>\n",
       "      <td>PMO - US</td>\n",
       "      <td>Direct Drop</td>\n",
       "      <td>EXW</td>\n",
       "      <td>Air</td>\n",
       "      <td>1.0</td>\n",
       "      <td>Yes</td>\n",
       "      <td>HRDT</td>\n",
       "      <td>HIV test</td>\n",
       "      <td>...</td>\n",
       "      <td>2996.0</td>\n",
       "      <td>266644.00</td>\n",
       "      <td>89.00</td>\n",
       "      <td>0.89</td>\n",
       "      <td>Alere Medical Co., Ltd.</td>\n",
       "      <td>Yes</td>\n",
       "      <td>1426.0</td>\n",
       "      <td>33279.83</td>\n",
       "      <td>expensive</td>\n",
       "      <td>373.83</td>\n",
       "    </tr>\n",
       "    <tr>\n",
       "      <th>1</th>\n",
       "      <td>30998.0</td>\n",
       "      <td>Botswana</td>\n",
       "      <td>PMO - US</td>\n",
       "      <td>Direct Drop</td>\n",
       "      <td>EXW</td>\n",
       "      <td>Air</td>\n",
       "      <td>0.0</td>\n",
       "      <td>No</td>\n",
       "      <td>HRDT</td>\n",
       "      <td>HIV test</td>\n",
       "      <td>...</td>\n",
       "      <td>25.0</td>\n",
       "      <td>800.00</td>\n",
       "      <td>32.00</td>\n",
       "      <td>1.60</td>\n",
       "      <td>Trinity Biotech, Plc</td>\n",
       "      <td>Yes</td>\n",
       "      <td>10.0</td>\n",
       "      <td>559.89</td>\n",
       "      <td>reasonable</td>\n",
       "      <td>1.72</td>\n",
       "    </tr>\n",
       "    <tr>\n",
       "      <th>2</th>\n",
       "      <td>69871.0</td>\n",
       "      <td>Vietnam</td>\n",
       "      <td>PMO - US</td>\n",
       "      <td>Direct Drop</td>\n",
       "      <td>EXW</td>\n",
       "      <td>Air</td>\n",
       "      <td>0.0</td>\n",
       "      <td>No</td>\n",
       "      <td>ARV</td>\n",
       "      <td>Adult</td>\n",
       "      <td>...</td>\n",
       "      <td>22925.0</td>\n",
       "      <td>110040.00</td>\n",
       "      <td>4.80</td>\n",
       "      <td>0.08</td>\n",
       "      <td>Hetero Unit III Hyderabad IN</td>\n",
       "      <td>Yes</td>\n",
       "      <td>3723.0</td>\n",
       "      <td>19056.13</td>\n",
       "      <td>expensive</td>\n",
       "      <td>181.57</td>\n",
       "    </tr>\n",
       "    <tr>\n",
       "      <th>3</th>\n",
       "      <td>17648.0</td>\n",
       "      <td>South Africa</td>\n",
       "      <td>PMO - US</td>\n",
       "      <td>Direct Drop</td>\n",
       "      <td>DDP</td>\n",
       "      <td>Ocean</td>\n",
       "      <td>0.0</td>\n",
       "      <td>No</td>\n",
       "      <td>ARV</td>\n",
       "      <td>Adult</td>\n",
       "      <td>...</td>\n",
       "      <td>152535.0</td>\n",
       "      <td>361507.95</td>\n",
       "      <td>2.37</td>\n",
       "      <td>0.04</td>\n",
       "      <td>Aurobindo Unit III, India</td>\n",
       "      <td>Yes</td>\n",
       "      <td>7698.0</td>\n",
       "      <td>11372.23</td>\n",
       "      <td>expensive</td>\n",
       "      <td>779.41</td>\n",
       "    </tr>\n",
       "    <tr>\n",
       "      <th>4</th>\n",
       "      <td>5647.0</td>\n",
       "      <td>Uganda</td>\n",
       "      <td>PMO - US</td>\n",
       "      <td>Direct Drop</td>\n",
       "      <td>EXW</td>\n",
       "      <td>Air</td>\n",
       "      <td>0.0</td>\n",
       "      <td>No</td>\n",
       "      <td>HRDT</td>\n",
       "      <td>HIV test - Ancillary</td>\n",
       "      <td>...</td>\n",
       "      <td>850.0</td>\n",
       "      <td>8.50</td>\n",
       "      <td>0.01</td>\n",
       "      <td>0.00</td>\n",
       "      <td>Inverness Japan</td>\n",
       "      <td>Yes</td>\n",
       "      <td>56.0</td>\n",
       "      <td>360.00</td>\n",
       "      <td>reasonable</td>\n",
       "      <td>0.01</td>\n",
       "    </tr>\n",
       "  </tbody>\n",
       "</table>\n",
       "<p>5 rows × 27 columns</p>\n",
       "</div>"
      ],
      "text/plain": [
       "        id       country managed_by  fulfill_via vendor_inco_term  \\\n",
       "0  36203.0       Nigeria   PMO - US  Direct Drop              EXW   \n",
       "1  30998.0      Botswana   PMO - US  Direct Drop              EXW   \n",
       "2  69871.0       Vietnam   PMO - US  Direct Drop              EXW   \n",
       "3  17648.0  South Africa   PMO - US  Direct Drop              DDP   \n",
       "4   5647.0        Uganda   PMO - US  Direct Drop              EXW   \n",
       "\n",
       "  shipment_mode  late_delivery late product_group    sub_classification  ...  \\\n",
       "0           Air            1.0  Yes          HRDT              HIV test  ...   \n",
       "1           Air            0.0   No          HRDT              HIV test  ...   \n",
       "2           Air            0.0   No           ARV                 Adult  ...   \n",
       "3         Ocean            0.0   No           ARV                 Adult  ...   \n",
       "4           Air            0.0   No          HRDT  HIV test - Ancillary  ...   \n",
       "\n",
       "  line_item_quantity line_item_value pack_price unit_price  \\\n",
       "0             2996.0       266644.00      89.00       0.89   \n",
       "1               25.0          800.00      32.00       1.60   \n",
       "2            22925.0       110040.00       4.80       0.08   \n",
       "3           152535.0       361507.95       2.37       0.04   \n",
       "4              850.0            8.50       0.01       0.00   \n",
       "\n",
       "             manufacturing_site first_line_designation  weight_kilograms  \\\n",
       "0       Alere Medical Co., Ltd.                    Yes            1426.0   \n",
       "1          Trinity Biotech, Plc                    Yes              10.0   \n",
       "2  Hetero Unit III Hyderabad IN                    Yes            3723.0   \n",
       "3     Aurobindo Unit III, India                    Yes            7698.0   \n",
       "4               Inverness Japan                    Yes              56.0   \n",
       "\n",
       "   freight_cost_usd  freight_cost_groups  line_item_insurance_usd  \n",
       "0          33279.83            expensive                   373.83  \n",
       "1            559.89           reasonable                     1.72  \n",
       "2          19056.13            expensive                   181.57  \n",
       "3          11372.23            expensive                   779.41  \n",
       "4            360.00           reasonable                     0.01  \n",
       "\n",
       "[5 rows x 27 columns]"
      ]
     },
     "execution_count": 25,
     "metadata": {},
     "output_type": "execute_result"
    }
   ],
   "source": [
    "late_shipments = feather.read_feather(\"late_shipments.feather\")\n",
    "late_shipments.head()"
   ]
  },
  {
   "cell_type": "markdown",
   "metadata": {},
   "source": [
    "We can know this by having a look to the column *\"late\"* and making a proportion. As it is a *dummy variable*, we only have to take the mean."
   ]
  },
  {
   "cell_type": "code",
   "execution_count": 26,
   "metadata": {},
   "outputs": [
    {
     "name": "stdout",
     "output_type": "stream",
     "text": [
      "0.061\n"
     ]
    }
   ],
   "source": [
    "# Calculate the proportion of late shipments\n",
    "late_prop_samp = (late_shipments[\"late\"]==\"Yes\").mean()\n",
    "print(late_prop_samp)"
   ]
  },
  {
   "cell_type": "markdown",
   "metadata": {},
   "source": [
    "So we obtain that **6.1%** of the shipments are late. \n",
    "The point is, **can we make this results general for every sample of our shipments**? "
   ]
  },
  {
   "cell_type": "markdown",
   "metadata": {},
   "source": [
    "## Z-Score\n",
    "\n",
    "Imagine that you are in your house with your cousin from Romania and you want to compare how much money do you have in your piggy bank! It is usually use to save money specially as a child to learn a bit of finances and self-control, and both of you want to know who is the best one saving money for some ice cream! 💰🐷\n",
    "\n",
    "Then, you decide to open the piggy bank (Opening means 🔨), but, when you open it you discover something...\n",
    "Your cousing has Leis on it! The standard coind in Romania while you have Euros! How are you going to compare both quantities?\n",
    "Your cousin could have saved 6 coins, but the value of his coins not the same as yours... What can we do?\n",
    "\n",
    "**This is the purpose of the $\\mathit{z}$-Score, to standarized the value of interest for our statistic.**\n",
    "\n",
    "To calculate it, you need three numbers: \n",
    "- The sample statistic (point estimate)\n",
    "- The hypothesized statistic\n",
    "- The standard error of the statistic (estimated from the bootstrap distribution)\n"
   ]
  },
  {
   "cell_type": "markdown",
   "metadata": {},
   "source": [
    "Now, we are going to calculate the $\\mathit{z}$-Score <a id='z-Score'></a>\n",
    " of our problem, this is, we are going to compare samples of our shipments population and see if they are really deviated from the media of our hypothesis.\n",
    "\n",
    "Our numbers are:\n",
    "- The sample statistic, we will pick samples from it **using a BootStrap distribution**.\n",
    "- The hypothesized statistic, this is **0.06** (or 6%)\n",
    "- The standard error of the statistic, **we can calculate it from the first number with NumPy**.\n",
    "\n",
    "$$ \\mathit{z}-Score = \\frac{Sample stat - Hypot. param. value}{Standard error}$$"
   ]
  },
  {
   "cell_type": "markdown",
   "metadata": {},
   "source": [
    "1. Sample statistic with Bootstrap Sampling:"
   ]
  },
  {
   "cell_type": "code",
   "execution_count": 27,
   "metadata": {},
   "outputs": [],
   "source": [
    "#--------------------------BootStrap-Sampling------------------\n",
    "\n",
    "late_shipments['late'] = late_shipments['late'].map({'Yes': 1, 'No': 0}) #Tranform the strings into ints\n",
    "#-----Looping----------\n",
    "\n",
    "late_shipments_boot_distn = []\n",
    "for i in range(1000):\n",
    "    late_shipments_boot_distn.append(\n",
    "        np.mean(\n",
    "            late_shipments.sample(frac=1,replace = True)[\"late\"]\n",
    "    )\n",
    ")"
   ]
  },
  {
   "cell_type": "markdown",
   "metadata": {},
   "source": [
    "2. Hypothesized statistic"
   ]
  },
  {
   "cell_type": "code",
   "execution_count": 28,
   "metadata": {},
   "outputs": [],
   "source": [
    "late_prop_hyp = 0.06"
   ]
  },
  {
   "cell_type": "markdown",
   "metadata": {},
   "source": [
    "3. Standard error from the Bootstrap Distribution"
   ]
  },
  {
   "cell_type": "code",
   "execution_count": 29,
   "metadata": {},
   "outputs": [
    {
     "data": {
      "text/plain": [
       "0.007650626319660574"
      ]
     },
     "execution_count": 29,
     "metadata": {},
     "output_type": "execute_result"
    }
   ],
   "source": [
    "std_error = np.std(late_shipments_boot_distn, ddof=1)\n",
    "std_error"
   ]
  },
  {
   "cell_type": "markdown",
   "metadata": {},
   "source": [
    "So we calculate the $\\mathit{z}$-score:"
   ]
  },
  {
   "cell_type": "code",
   "execution_count": 30,
   "metadata": {},
   "outputs": [
    {
     "name": "stdout",
     "output_type": "stream",
     "text": [
      "0.1307082529217512\n"
     ]
    }
   ],
   "source": [
    "z_score = (late_prop_samp - late_prop_hyp) / std_error\n",
    "# Print z_score\n",
    "print(z_score)"
   ]
  },
  {
   "cell_type": "markdown",
   "metadata": {},
   "source": [
    "So, we obtain that the standarized measure difference is 0.13255 aproximately!"
   ]
  },
  {
   "cell_type": "markdown",
   "metadata": {},
   "source": [
    "-----------------------------"
   ]
  },
  {
   "cell_type": "markdown",
   "metadata": {},
   "source": [
    "## p-Value"
   ]
  },
  {
   "cell_type": "markdown",
   "metadata": {},
   "source": [
    "### Hypothesis and tails\n",
    "\n",
    "We will now see why $\\mathit{z}$-Score is so important and what is the relation that it has with $\\mathit{p}$-Value!\n",
    "\n",
    "But first, it is mandatory to explain some things! Imagine that your cousin and you are arguing about your money: Is it the same? Does he have more than you? And the opposite case?\n",
    "\n",
    "All of this assumptions are hypothesis.**A hypothesis is a statement about an unknown population parameter.**\n",
    "When we are comparing two hypothesis to see which one is true it is called a **hypothesis test**. These hypothesis are called:\n",
    "\n",
    "- Null hypothesis ($H_{0}$) which is the existing idea.\n",
    "- Alternative hypothesis ($H_{A}$) that is the one that challenges the previous idea.\n",
    "\n",
    "In our case it could be that our $H_{0}$ has more money than and the $H_{A}$ is that he do not have more money than I.\n",
    "\n",
    "![Money fight](https://www.lovelearnings.com/wp-content/uploads/2015/01/Money-Fight.jpg)\n"
   ]
  },
  {
   "cell_type": "markdown",
   "metadata": {},
   "source": [
    "Now, there could be two options, **or $H_{0}$ is true or $H_{A}$ is true.**\n",
    "\n",
    "We assume first that $H_{0}$ is true. So the two options are the following:\n",
    "- Rejecting $H_{0}$\n",
    "- Failing to reject $H_{0}$\n",
    "If the evidence from the sample is \"significant\" that $H_{A}$ is true, then we reject $H_{0}$.\n",
    "\n",
    "### Why do we do hypothesis test?\n",
    "\n",
    "**OK! But what is the difference between this and comparing our quantities directly, why don´t we do that?**\n",
    "\n",
    "Because we are trying to make a generalization of a certain phenomena in our population. For example, there could be season were you spend more money than your romanian cousin, does it mean that we can assume that you have less money than him? No.\n",
    "\n",
    "But in the other case that he has spend more, for example during the last week and you have more money that week, does it mean that you have more money than him general? Neither.\n",
    "\n",
    "**That´s why we have to make bootstrapping! To take a lot of samples, and then we can assume one of the results with a certain precision!**\n",
    "\n",
    "That precision is called **significance level**."
   ]
  },
  {
   "cell_type": "markdown",
   "metadata": {},
   "source": [
    "## Possible hypothesis tests"
   ]
  },
  {
   "cell_type": "markdown",
   "metadata": {},
   "source": [
    "What we are mathematically doing is looking at the distribution of the data in a normal distribution based on the null hypothesis, and, from our samples, we determine if these are in a \"common area\" or they are in the tails. \n",
    "\n",
    "Being in the tails would mean that our assumption of that hypothesis is not appropiate as they are not in the central area of the hypothesis!\n",
    "\n",
    "There are 3 options:\n",
    "\n",
    "- If we are checking if there are differences, for examples *\"my cousin and I have different quantities of money*\", that´s a *\"two-tailed test\"*.\n",
    "- If we are comparing with a greater than affirmation, such as *\"my cousin has more money than I\"*, that´s a right-tailed test.\n",
    "- If we are comparing with a less than affirmation, such as *\"my cousin has less money than I\"*, that´s a left-tailed test.\n",
    "\n",
    "And here, is when **$\\mathit{p}$-Value** enters!\n",
    "\n",
    "**$\\mathit{p}$-Value** is the probability of obtaining a result assuming that the null hypothesis is true. This value that leads this distribution, is the Z-Score!\n",
    "\n",
    "- For example if we have a high p-Value in a distribution that is based on \"My cousin have more money than I\", that would mean that, exactly, it is most-probable that he has more money so it is a solid hypothesis!\n",
    "\n",
    "- Nevertheless, if the p-Value is low in a distribution that is based on \"My cousin have more money than I\", that would mean that is most probable that he don´t have more money than you. In other words, that assumptions has a probability close to 0 of being true.\n",
    "\n",
    "Have you seen the similarities yet? They are in front of you! \n",
    "\n",
    "- **If we have a high p-Value that do not surpasses certain threshold, we will fail to reject $H_{0}$.**\n",
    "\n",
    "- **If we have a low p-Value that surpasses certain threshold, we will reject $H_{0}$ and we will keep $H_{A}$.**\n",
    "\n",
    "Let´s learn how to obtain the $\\mathit{p}$-Value."
   ]
  },
  {
   "cell_type": "markdown",
   "metadata": {},
   "source": [
    "------------------------------"
   ]
  },
  {
   "cell_type": "markdown",
   "metadata": {},
   "source": [
    "### How do we present it our case\n",
    "\n",
    "In our case we can see that:\n",
    "\n",
    "- We have a proportion of late shipments that is 6.1%\n",
    "- We estimated the proportion of late shipments in 6%\n",
    "\n",
    "- Our null hypothesis is that **the proportion of late shipments is 6%**\n",
    "- Our alternative hypothesis is that **the proportion of late shipments is more than 6%**\n",
    "\n",
    "Se we would need to perform a right-tailed test."
   ]
  },
  {
   "cell_type": "code",
   "execution_count": 31,
   "metadata": {},
   "outputs": [
    {
     "data": {
      "text/plain": [
       "0.4480030517365925"
      ]
     },
     "execution_count": 31,
     "metadata": {},
     "output_type": "execute_result"
    }
   ],
   "source": [
    "#Usign the package scipy.stats\n",
    "#Because it is a right-tailed test we do 1-cdf (Total probability - the probability of being in the left side.)\n",
    "\n",
    "p_value = 1 - norm.cdf(z_score,loc=0, scale=1)   \n",
    "p_value"
   ]
  },
  {
   "cell_type": "markdown",
   "metadata": {},
   "source": [
    "## Confidence intervals\n",
    "\n",
    "Now that we have a number, which is the threshold to consider it as accepted or rejected?\n",
    "\n",
    "It is called the **significance level** and is a threshold point for \"beyond a reasonable doubt\".\n",
    "\n",
    "- In case that is is true: $$p \\leq \\alpha$$\n",
    "\n",
    "We reject the null hypothesis $H_{0}$. In other case we fail the reject $H_{0}$.\n",
    "The usual value of $\\alpha$ is 0.05, so the confidence interval is 95%, it is 1-$\\alpha$.\n",
    "\n",
    "For example, the hypothesized proportion of late shipments was 6%. Even if evidence suggests the null hypothesis that the proportion of late shipments is equal to this, for any new sample of shipments, the proportion is likely to be a little different due to sampling variability. Consequently, it's a good idea to state a confidence interval."
   ]
  },
  {
   "cell_type": "code",
   "execution_count": 32,
   "metadata": {},
   "outputs": [
    {
     "name": "stdout",
     "output_type": "stream",
     "text": [
      "(0.048, 0.077)\n"
     ]
    }
   ],
   "source": [
    "# Our 95% confidence interval is:\n",
    "lower = np.quantile(late_shipments_boot_distn,0.025)\n",
    "upper = np.quantile(late_shipments_boot_distn,0.975)\n",
    "\n",
    "print((lower, upper))"
   ]
  },
  {
   "cell_type": "markdown",
   "metadata": {},
   "source": [
    "We would be saying that we are 95% confident that the proportion of late shipments is between 4.6% and 7.6%."
   ]
  },
  {
   "cell_type": "markdown",
   "metadata": {},
   "source": [
    "So, the conclusions for this hypothesis test would be, does the confidence interval match with the conclusion to stick with the original assumption that 6% is a reasonable value for the unknown population parameter?\n",
    "\n",
    "**The answer is Yes, because 0.06 is included in the confidence interval and we failed to reject $H_{0}$, due to a large $\\mathit{p}$-Value.**"
   ]
  },
  {
   "cell_type": "markdown",
   "metadata": {},
   "source": [
    "But also, we see that: $$p > \\alpha$$\n",
    "\n",
    "Remember that p = 0.44 aprox. while $\\alpha$ = 0.05. That means that we fail to reject $H_{0}$ so we keep it.\n",
    "\n",
    "We have found two ways to solve the same problem."
   ]
  },
  {
   "cell_type": "markdown",
   "metadata": {},
   "source": [
    "----------------------------"
   ]
  },
  {
   "cell_type": "markdown",
   "metadata": {},
   "source": [
    "# Two sample tests"
   ]
  },
  {
   "cell_type": "markdown",
   "metadata": {},
   "source": [
    "## T-Test"
   ]
  },
  {
   "cell_type": "markdown",
   "metadata": {},
   "source": [
    "$\\mathit{t}$-Test is another type of test that allows us to compare statistics between two groups, concretely the mean of the groups. \n",
    "We can obtain a solid conclusion about information of the groups.\n",
    "\n",
    "- For example, if we would be interested in knowing if german beer has more alcohol than belgian beer, we would have the following hypothesis:\n",
    "\n",
    "- $H_{0}$: German beer has more alcohol content than belgian beer. $\\mu_{German} > \\mu_{Belgian}$\n",
    "- $H_{A}$: German beer have the same alcohol content than belgian beer. $\\mu_{German} = \\mu_{Belgian}$\n",
    "\n",
    "We would be **comparing the means** of both alcoholic content from the groups of beers. We would need to apply a $\\mathit{t}$-Test.\n",
    "\n",
    "Notice that they could be written also as:\n",
    "$$ H_{0}: \\mu_{German} > \\mu_{Belgian}$$\n",
    "$$ H_{A}: \\mu_{German} = \\mu_{Belgian}$$"
   ]
  },
  {
   "cell_type": "markdown",
   "metadata": {},
   "source": [
    "![Belgian and German Beer](data:image/jpeg;base64,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)"
   ]
  },
  {
   "cell_type": "markdown",
   "metadata": {},
   "source": [
    "---------------------"
   ]
  },
  {
   "cell_type": "markdown",
   "metadata": {},
   "source": [
    "## A new form of z-Score"
   ]
  },
  {
   "cell_type": "markdown",
   "metadata": {},
   "source": [
    "As we are doing another test, we need a $\\mathit{z}$-Score to calculate later the $\\mathit{p}$-Value."
   ]
  },
  {
   "cell_type": "markdown",
   "metadata": {},
   "source": [
    "What happens now? Now that we have 2 samples as the population is divided in 2 types, the German and Belgian beers, we need to take the difference between the samples in all of the cases. This means, that calculating the $\\mathit{z}$-Score now is done in the following way:\n",
    "\n",
    "$$\\mathit{t} = \\frac{(\\bar{x}_{German} - \\bar{x}_{Belgian}) - (\\mu_{German} - \\mu_{Belgian})}{\\mathit{SE}(\\bar{x}_{German} - \\bar{x}_{Belgian})}$$\n",
    "\n",
    "Where $\\mathit{SE}(\\bar{x}_{German} - \\bar{x}_{Belgian})$ is:\n",
    "\n",
    "$$\\mathit{SE}(\\bar{x}_{German} - \\bar{x}_{Belgian}) \\approx \\sqrt{\\frac{\\mathit{s}^{2}_{German}}{n_{German}} + \\frac{\\mathit{s}^{2}_{Belgian}}{n_{Belgian}}}$$"
   ]
  },
  {
   "cell_type": "markdown",
   "metadata": {},
   "source": [
    "- $\\mathit{s}$ is the standard deviation of the variable.\n",
    "- $\\mathit{n}$ is the sample size.\n"
   ]
  },
  {
   "cell_type": "markdown",
   "metadata": {},
   "source": [
    "## Simplifying this\n",
    "\n",
    "Ok but this sounds so difficult, how can be simplify it? \n",
    "\n",
    "Do you remember that when we were doing our calculus of the $\\mathit{p}$-Value we were assuming that the null hypothesis is true? If we consider that to be true, in our last example we would have:\n",
    "\n",
    "$$ \\bar{x}_{German} = \\bar{x}_{Belgian}$$\n",
    "\n",
    "Which would simplify the way we calculate $\\mathit{t}$, so it is remaining:\n",
    "\n",
    "$$\\mathit{t} = \\frac{(\\mu_{German} - \\mu_{Belgian})}{\\mathit{SE}(\\bar{x}_{German} - \\bar{x}_{Belgian})}$$"
   ]
  },
  {
   "cell_type": "markdown",
   "metadata": {},
   "source": [
    "So, then **we need 6 variables:**\n",
    "\n",
    "- 2 means, one of each group.\n",
    "- 2 standard deviations, one of each group.\n",
    "- The number of observations for each group."
   ]
  },
  {
   "cell_type": "markdown",
   "metadata": {},
   "source": [
    "-------------------------"
   ]
  },
  {
   "cell_type": "markdown",
   "metadata": {},
   "source": [
    "Doing this with our sample of late shipments would be in the following way. Our hypothesis are:\n",
    "\n",
    "- $H_{0}$ = The mean weight of shipments that weren't late is the same as the mean weight of shipments that were late.\n",
    "- $H_{A}$ = The mean weight of shipments that weren't late is LESS THAN the mean weight of shipments that were late."
   ]
  },
  {
   "cell_type": "code",
   "execution_count": 33,
   "metadata": {},
   "outputs": [
    {
     "data": {
      "text/plain": [
       "2.3936661778766433"
      ]
     },
     "execution_count": 33,
     "metadata": {},
     "output_type": "execute_result"
    }
   ],
   "source": [
    "late_shipments['late'] = late_shipments['late'].map({1: 'Yes', 0: 'No'})\n",
    "\n",
    "# Sample means\n",
    "xbar_yes = late_shipments[late_shipments[\"late\"]==\"Yes\"].weight_kilograms.mean()\n",
    "xbar_no = late_shipments[late_shipments[\"late\"]==\"No\"].weight_kilograms.mean()\n",
    "\n",
    "# Sample standard deviations\n",
    "s_yes = late_shipments[late_shipments[\"late\"]==\"Yes\"].weight_kilograms.std()\n",
    "s_no = late_shipments[late_shipments[\"late\"]==\"No\"].weight_kilograms.std()\n",
    "\n",
    "# Number of elements of each group\n",
    "n_yes = len(late_shipments[late_shipments[\"late\"] == \"Yes\"])\n",
    "n_no = len(late_shipments[late_shipments[\"late\"] == \"No\"])\n",
    "\n",
    "numerator = xbar_yes - xbar_no\n",
    "denominator = np.sqrt(s_yes**2/n_yes + s_no**2/n_no)\n",
    "\n",
    "t_stat = numerator/denominator\n",
    "t_stat"
   ]
  },
  {
   "cell_type": "code",
   "execution_count": null,
   "metadata": {},
   "outputs": [],
   "source": []
  },
  {
   "cell_type": "markdown",
   "metadata": {},
   "source": []
  },
  {
   "cell_type": "markdown",
   "metadata": {},
   "source": []
  },
  {
   "cell_type": "markdown",
   "metadata": {},
   "source": []
  }
 ],
 "metadata": {
  "kernelspec": {
   "display_name": "base",
   "language": "python",
   "name": "python3"
  },
  "language_info": {
   "codemirror_mode": {
    "name": "ipython",
    "version": 3
   },
   "file_extension": ".py",
   "mimetype": "text/x-python",
   "name": "python",
   "nbconvert_exporter": "python",
   "pygments_lexer": "ipython3",
   "version": "3.11.5"
  }
 },
 "nbformat": 4,
 "nbformat_minor": 2
}
