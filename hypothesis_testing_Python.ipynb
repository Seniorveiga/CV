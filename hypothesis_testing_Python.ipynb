{
 "cells": [
  {
   "cell_type": "markdown",
   "metadata": {},
   "source": [
    "# Hypothesis tests"
   ]
  },
  {
   "cell_type": "markdown",
   "metadata": {},
   "source": [
    "In this Notebook I´m going to clarify some aspects of one fundamental data analyst tool: **Hypothesis tests**\n",
    "\n",
    "We will have a walk over:\n",
    "\n",
    "- $\\mathit{z}$-Scores\n",
    "- $\\mathit{p}$-Values\n",
    "- Confidence Intervals\n",
    "- $\\mathit{t}$-Tests\n",
    "- ANOVA\n",
    "- Tests for single and two proportions\n",
    "- Proportions $\\mathit{z}$-test\n",
    "- ${Chi^{2}}$ tests\n",
    "- Wilcoxon tests\n",
    "- Wilcoxon-Man-Whotney tests\n",
    "- Kruskal-Wallis tests\n",
    "\n",
    "## Definitions\n",
    "\n",
    "So, first of all, what is a hypothesis tests?\n",
    "\n",
    "**Hypothesis tests** is a mathematical procedure that allow us to generalize hypothesis / properties that we supposed based on our data, so what we deduce from our sample could be a real property of that population.\n",
    "\n",
    "**A/B Testing** is a process that allow us to check outcomes of competing scenarios and decide which way to proceed depending of the results that this scenarios provide us. \n",
    "- For example, if we are in the medicine field, a common hypothesis test is to separate two groups of people to give them medicine and placebo respectivelly in order to see if the medicine really works or it is based on the suggestion of the patient. \n",
    "- Another example is when you perform a separation in a website in order to have two websites and see the SEO, how it is positioning, how is it listed on the internet and decide which interface is better.\n",
    "  \n",
    "A/B Testing is the main application of Hypothesis tests.\n",
    "\n",
    "![\"A/B Testing Image\"](https://www.optimizely.com/contentassets/08726e145f1b4743a0ba2f30c0447b76/ab-testing.png)"
   ]
  },
  {
   "cell_type": "markdown",
   "metadata": {},
   "source": [
    "# Datasets to work\n",
    "\n",
    "To learn more about hypothesis tests, we will be working with two datasets, one that is called *late_shipments* and the other one called *republican_votes*. Right now we will be using only the first one in order to understand more about hypothesis tests.\n",
    "\n",
    "The *late_shipments* dataset contains supply chain data on the delivery of medical supplies. Each row represents one delivery of a part. \n",
    "- The **\"late\"** columns denotes whether or not the part was delivered late. A value of \"Yes\" means that the part was delivered late, and a value of \"No\" means the part was delivered on time."
   ]
  },
  {
   "cell_type": "markdown",
   "metadata": {},
   "source": [
    "## Packages and dataset main idea"
   ]
  },
  {
   "cell_type": "code",
   "execution_count": 33,
   "metadata": {},
   "outputs": [],
   "source": [
    "import pandas as pd\n",
    "import pyarrow.feather as feather\n",
    "import numpy as np\n",
    "from scipy.stats import norm"
   ]
  },
  {
   "cell_type": "markdown",
   "metadata": {},
   "source": [
    "Let´s find some information first about the shipments, how many of them are late shipments? First, as we usually do we have a previsualization of the datasets."
   ]
  },
  {
   "cell_type": "code",
   "execution_count": 27,
   "metadata": {},
   "outputs": [
    {
     "data": {
      "text/html": [
       "<div>\n",
       "<style scoped>\n",
       "    .dataframe tbody tr th:only-of-type {\n",
       "        vertical-align: middle;\n",
       "    }\n",
       "\n",
       "    .dataframe tbody tr th {\n",
       "        vertical-align: top;\n",
       "    }\n",
       "\n",
       "    .dataframe thead th {\n",
       "        text-align: right;\n",
       "    }\n",
       "</style>\n",
       "<table border=\"1\" class=\"dataframe\">\n",
       "  <thead>\n",
       "    <tr style=\"text-align: right;\">\n",
       "      <th></th>\n",
       "      <th>id</th>\n",
       "      <th>country</th>\n",
       "      <th>managed_by</th>\n",
       "      <th>fulfill_via</th>\n",
       "      <th>vendor_inco_term</th>\n",
       "      <th>shipment_mode</th>\n",
       "      <th>late_delivery</th>\n",
       "      <th>late</th>\n",
       "      <th>product_group</th>\n",
       "      <th>sub_classification</th>\n",
       "      <th>...</th>\n",
       "      <th>line_item_quantity</th>\n",
       "      <th>line_item_value</th>\n",
       "      <th>pack_price</th>\n",
       "      <th>unit_price</th>\n",
       "      <th>manufacturing_site</th>\n",
       "      <th>first_line_designation</th>\n",
       "      <th>weight_kilograms</th>\n",
       "      <th>freight_cost_usd</th>\n",
       "      <th>freight_cost_groups</th>\n",
       "      <th>line_item_insurance_usd</th>\n",
       "    </tr>\n",
       "  </thead>\n",
       "  <tbody>\n",
       "    <tr>\n",
       "      <th>0</th>\n",
       "      <td>36203.0</td>\n",
       "      <td>Nigeria</td>\n",
       "      <td>PMO - US</td>\n",
       "      <td>Direct Drop</td>\n",
       "      <td>EXW</td>\n",
       "      <td>Air</td>\n",
       "      <td>1.0</td>\n",
       "      <td>Yes</td>\n",
       "      <td>HRDT</td>\n",
       "      <td>HIV test</td>\n",
       "      <td>...</td>\n",
       "      <td>2996.0</td>\n",
       "      <td>266644.00</td>\n",
       "      <td>89.00</td>\n",
       "      <td>0.89</td>\n",
       "      <td>Alere Medical Co., Ltd.</td>\n",
       "      <td>Yes</td>\n",
       "      <td>1426.0</td>\n",
       "      <td>33279.83</td>\n",
       "      <td>expensive</td>\n",
       "      <td>373.83</td>\n",
       "    </tr>\n",
       "    <tr>\n",
       "      <th>1</th>\n",
       "      <td>30998.0</td>\n",
       "      <td>Botswana</td>\n",
       "      <td>PMO - US</td>\n",
       "      <td>Direct Drop</td>\n",
       "      <td>EXW</td>\n",
       "      <td>Air</td>\n",
       "      <td>0.0</td>\n",
       "      <td>No</td>\n",
       "      <td>HRDT</td>\n",
       "      <td>HIV test</td>\n",
       "      <td>...</td>\n",
       "      <td>25.0</td>\n",
       "      <td>800.00</td>\n",
       "      <td>32.00</td>\n",
       "      <td>1.60</td>\n",
       "      <td>Trinity Biotech, Plc</td>\n",
       "      <td>Yes</td>\n",
       "      <td>10.0</td>\n",
       "      <td>559.89</td>\n",
       "      <td>reasonable</td>\n",
       "      <td>1.72</td>\n",
       "    </tr>\n",
       "    <tr>\n",
       "      <th>2</th>\n",
       "      <td>69871.0</td>\n",
       "      <td>Vietnam</td>\n",
       "      <td>PMO - US</td>\n",
       "      <td>Direct Drop</td>\n",
       "      <td>EXW</td>\n",
       "      <td>Air</td>\n",
       "      <td>0.0</td>\n",
       "      <td>No</td>\n",
       "      <td>ARV</td>\n",
       "      <td>Adult</td>\n",
       "      <td>...</td>\n",
       "      <td>22925.0</td>\n",
       "      <td>110040.00</td>\n",
       "      <td>4.80</td>\n",
       "      <td>0.08</td>\n",
       "      <td>Hetero Unit III Hyderabad IN</td>\n",
       "      <td>Yes</td>\n",
       "      <td>3723.0</td>\n",
       "      <td>19056.13</td>\n",
       "      <td>expensive</td>\n",
       "      <td>181.57</td>\n",
       "    </tr>\n",
       "    <tr>\n",
       "      <th>3</th>\n",
       "      <td>17648.0</td>\n",
       "      <td>South Africa</td>\n",
       "      <td>PMO - US</td>\n",
       "      <td>Direct Drop</td>\n",
       "      <td>DDP</td>\n",
       "      <td>Ocean</td>\n",
       "      <td>0.0</td>\n",
       "      <td>No</td>\n",
       "      <td>ARV</td>\n",
       "      <td>Adult</td>\n",
       "      <td>...</td>\n",
       "      <td>152535.0</td>\n",
       "      <td>361507.95</td>\n",
       "      <td>2.37</td>\n",
       "      <td>0.04</td>\n",
       "      <td>Aurobindo Unit III, India</td>\n",
       "      <td>Yes</td>\n",
       "      <td>7698.0</td>\n",
       "      <td>11372.23</td>\n",
       "      <td>expensive</td>\n",
       "      <td>779.41</td>\n",
       "    </tr>\n",
       "    <tr>\n",
       "      <th>4</th>\n",
       "      <td>5647.0</td>\n",
       "      <td>Uganda</td>\n",
       "      <td>PMO - US</td>\n",
       "      <td>Direct Drop</td>\n",
       "      <td>EXW</td>\n",
       "      <td>Air</td>\n",
       "      <td>0.0</td>\n",
       "      <td>No</td>\n",
       "      <td>HRDT</td>\n",
       "      <td>HIV test - Ancillary</td>\n",
       "      <td>...</td>\n",
       "      <td>850.0</td>\n",
       "      <td>8.50</td>\n",
       "      <td>0.01</td>\n",
       "      <td>0.00</td>\n",
       "      <td>Inverness Japan</td>\n",
       "      <td>Yes</td>\n",
       "      <td>56.0</td>\n",
       "      <td>360.00</td>\n",
       "      <td>reasonable</td>\n",
       "      <td>0.01</td>\n",
       "    </tr>\n",
       "  </tbody>\n",
       "</table>\n",
       "<p>5 rows × 27 columns</p>\n",
       "</div>"
      ],
      "text/plain": [
       "        id       country managed_by  fulfill_via vendor_inco_term  \\\n",
       "0  36203.0       Nigeria   PMO - US  Direct Drop              EXW   \n",
       "1  30998.0      Botswana   PMO - US  Direct Drop              EXW   \n",
       "2  69871.0       Vietnam   PMO - US  Direct Drop              EXW   \n",
       "3  17648.0  South Africa   PMO - US  Direct Drop              DDP   \n",
       "4   5647.0        Uganda   PMO - US  Direct Drop              EXW   \n",
       "\n",
       "  shipment_mode  late_delivery late product_group    sub_classification  ...  \\\n",
       "0           Air            1.0  Yes          HRDT              HIV test  ...   \n",
       "1           Air            0.0   No          HRDT              HIV test  ...   \n",
       "2           Air            0.0   No           ARV                 Adult  ...   \n",
       "3         Ocean            0.0   No           ARV                 Adult  ...   \n",
       "4           Air            0.0   No          HRDT  HIV test - Ancillary  ...   \n",
       "\n",
       "  line_item_quantity line_item_value pack_price unit_price  \\\n",
       "0             2996.0       266644.00      89.00       0.89   \n",
       "1               25.0          800.00      32.00       1.60   \n",
       "2            22925.0       110040.00       4.80       0.08   \n",
       "3           152535.0       361507.95       2.37       0.04   \n",
       "4              850.0            8.50       0.01       0.00   \n",
       "\n",
       "             manufacturing_site first_line_designation  weight_kilograms  \\\n",
       "0       Alere Medical Co., Ltd.                    Yes            1426.0   \n",
       "1          Trinity Biotech, Plc                    Yes              10.0   \n",
       "2  Hetero Unit III Hyderabad IN                    Yes            3723.0   \n",
       "3     Aurobindo Unit III, India                    Yes            7698.0   \n",
       "4               Inverness Japan                    Yes              56.0   \n",
       "\n",
       "   freight_cost_usd  freight_cost_groups  line_item_insurance_usd  \n",
       "0          33279.83            expensive                   373.83  \n",
       "1            559.89           reasonable                     1.72  \n",
       "2          19056.13            expensive                   181.57  \n",
       "3          11372.23            expensive                   779.41  \n",
       "4            360.00           reasonable                     0.01  \n",
       "\n",
       "[5 rows x 27 columns]"
      ]
     },
     "execution_count": 27,
     "metadata": {},
     "output_type": "execute_result"
    }
   ],
   "source": [
    "late_shipments = feather.read_feather(\"late_shipments.feather\")\n",
    "late_shipments.head()"
   ]
  },
  {
   "cell_type": "markdown",
   "metadata": {},
   "source": [
    "We can know this by having a look to the column *\"late\"* and making a proportion. As it is a *dummy variable*, we only have to take the mean."
   ]
  },
  {
   "cell_type": "code",
   "execution_count": 28,
   "metadata": {},
   "outputs": [
    {
     "name": "stdout",
     "output_type": "stream",
     "text": [
      "0.061\n"
     ]
    }
   ],
   "source": [
    "# Calculate the proportion of late shipments\n",
    "late_prop_samp = (late_shipments[\"late\"]==\"Yes\").mean()\n",
    "print(late_prop_samp)"
   ]
  },
  {
   "cell_type": "markdown",
   "metadata": {},
   "source": [
    "So we obtain that **6.1%** of the shipments are late. \n",
    "The point is, **can we make this results general for every sample of our shipments**? "
   ]
  },
  {
   "cell_type": "markdown",
   "metadata": {},
   "source": [
    "## $\\mathit{z}$ - Score\n",
    "\n",
    "Imagine that you are in your house with your cousin from Romania and you want to compare how much money do you have in your piggy bank! It is usually use to save money specially as a child to learn a bit of finances and self-control, and both of you want to know who is the best one saving money for some ice cream! 💰🐷\n",
    "\n",
    "Then, you decide to open the piggy bank (Opening means 🔨), but, when you open it you discover something...\n",
    "Your cousing has Leis on it! The standard coind in Romania while you have Euros! How are you going to compare both quantities?\n",
    "Your cousin could have saved 6 coins, but the value of his coins not the same as yours... What can we do?\n",
    "\n",
    "**This is the purpose of the $\\mathit{z}$-Score, to standarized the value of interest for our statistic.**\n",
    "\n",
    "To calculate it, you need three numbers: \n",
    "- The sample statistic (point estimate)\n",
    "- The hypothesized statistic\n",
    "- The standard error of the statistic (estimated from the bootstrap distribution)\n"
   ]
  },
  {
   "cell_type": "markdown",
   "metadata": {},
   "source": [
    "Now, we are going to calculate the $\\mathit{z}$-Score of our problem, this is, we are going to compare samples of our shipments population and see if they are really deviated from the media of our hypothesis.\n",
    "\n",
    "Our numbers are:\n",
    "- The sample statistic, we will pick samples from it **using a BootStrap distribution**.\n",
    "- The hypothesized statistic, this is **0.06** (or 6%)\n",
    "- The standard error of the statistic, **we can calculate it from the first number with NumPy**."
   ]
  },
  {
   "cell_type": "markdown",
   "metadata": {},
   "source": [
    "1. Sample statistic with Bootstrap Sampling:"
   ]
  },
  {
   "cell_type": "code",
   "execution_count": 29,
   "metadata": {},
   "outputs": [],
   "source": [
    "#--------------------------BootStrap-Sampling------------------\n",
    "\n",
    "late_shipments['late'] = late_shipments['late'].map({'Yes': 1, 'No': 0}) #Tranform the strings into ints\n",
    "#-----Looping----------\n",
    "\n",
    "late_shipments_boot_distn = []\n",
    "for i in range(1000):\n",
    "    late_shipments_boot_distn.append(\n",
    "        np.mean(\n",
    "            late_shipments.sample(frac=1,replace = True)[\"late\"]\n",
    "    )\n",
    ")"
   ]
  },
  {
   "cell_type": "markdown",
   "metadata": {},
   "source": [
    "2. Hypothesized statistic"
   ]
  },
  {
   "cell_type": "code",
   "execution_count": 30,
   "metadata": {},
   "outputs": [],
   "source": [
    "late_prop_hyp = 0.06"
   ]
  },
  {
   "cell_type": "markdown",
   "metadata": {},
   "source": [
    "3. Standard error from the Bootstrap Distribution"
   ]
  },
  {
   "cell_type": "code",
   "execution_count": 31,
   "metadata": {},
   "outputs": [
    {
     "data": {
      "text/plain": [
       "0.007544226889440652"
      ]
     },
     "execution_count": 31,
     "metadata": {},
     "output_type": "execute_result"
    }
   ],
   "source": [
    "std_error = np.std(late_shipments_boot_distn, ddof=1)\n",
    "std_error"
   ]
  },
  {
   "cell_type": "markdown",
   "metadata": {},
   "source": [
    "So we calculate the $\\mathit{z}$-score:"
   ]
  },
  {
   "cell_type": "code",
   "execution_count": 32,
   "metadata": {},
   "outputs": [
    {
     "name": "stdout",
     "output_type": "stream",
     "text": [
      "0.1325516868268716\n"
     ]
    }
   ],
   "source": [
    "z_score = (late_prop_samp - late_prop_hyp) / std_error\n",
    "# Print z_score\n",
    "print(z_score)"
   ]
  },
  {
   "cell_type": "markdown",
   "metadata": {},
   "source": [
    "So, we obtain that the standarized measure difference is 0.13255 aproximately!"
   ]
  },
  {
   "cell_type": "markdown",
   "metadata": {},
   "source": [
    "-----------------------------"
   ]
  },
  {
   "cell_type": "markdown",
   "metadata": {},
   "source": [
    "## $\\mathit{p}$-Value"
   ]
  },
  {
   "cell_type": "markdown",
   "metadata": {},
   "source": [
    "### Hypothesis and tails\n",
    "\n",
    "We will now see why $\\mathit{z}$-Score is so important and what is the relation that it has with $\\mathit{p}$-Value!\n",
    "\n",
    "But first, it is mandatory to explain some things! Imagine that your cousin and you are arguing about your money: Is it the same? Does he have more than you? And the opposite case?\n",
    "\n",
    "All of this assumptions are hypothesis.**A hypothesis is a statement about an unknown population parameter.**\n",
    "When we are comparing two hypothesis to see which one is true it is called a **hypothesis test**. These hypothesis are called:\n",
    "\n",
    "- Null hypothesis ($H_{0}$) which is the existing idea.\n",
    "- Alternative hypothesis ($H_{A}$) that is the one that challenges the previous idea.\n",
    "\n",
    "In our case it could be that our $H_{0}$ has more money than and the $H_{A}$ is that he do not have more money than I.\n",
    "\n",
    "![Money fight](https://www.lovelearnings.com/wp-content/uploads/2015/01/Money-Fight.jpg)\n"
   ]
  },
  {
   "cell_type": "markdown",
   "metadata": {},
   "source": [
    "Now, there could be two options, **or $H_{0}$ is true or $H_{A}$ is true.**\n",
    "\n",
    "We assume first that $H_{0}$ is true. So the two options are the following:\n",
    "- Rejecting $H_{0}$\n",
    "- Failing to reject $H_{0}$\n",
    "If the evidence from the sample is \"significant\" that $H_{A}$ is true, then we reject $H_{0}$.\n",
    "\n",
    "## Why do we do hypothesis test?\n",
    "\n",
    "**OK! But what is the difference between this and comparing our quantities directly, why don´t we do that?**\n",
    "\n",
    "Because we are trying to make a generalization of a certain phenomena in our population. For example, there could be season were you spend more money than your romanian cousin, does it mean that we can assume that you have less money than him? No.\n",
    "\n",
    "But in the other case that he has spend more, for example during the last week and you have more money that week, does it mean that you have more money than him general? Neither.\n",
    "\n",
    "**That´s why we have to make bootstrapping! To take a lot of samples, and then we can assume one of the results with a certain precision!**\n",
    "\n",
    "That precision is called **significance level**."
   ]
  },
  {
   "cell_type": "markdown",
   "metadata": {},
   "source": [
    "## Possible hypothesis tests"
   ]
  },
  {
   "cell_type": "markdown",
   "metadata": {},
   "source": [
    "What we are mathematically doing is looking at the distribution of the data in a normal distribution based on the null hypothesis, and, from our samples, we determine if these are in a \"common area\" or they are in the tails. \n",
    "\n",
    "Being in the tails would mean that our assumption of that hypothesis is not appropiate as they are not in the central area of the hypothesis!\n",
    "\n",
    "There are 3 options:\n",
    "\n",
    "- If we are checking if there are differences, for examples *\"my cousin and I have different quantities of money*\", that´s a *\"two-tailed test\"*.\n",
    "- If we are comparing with a greater than affirmation, such as *\"my cousin has more money than I\"*, that´s a right-tailed test.\n",
    "- If we are comparing with a less than affirmation, such as *\"my cousin has less money than I\"*, that´s a left-tailed test.\n",
    "\n",
    "And here, is when **$\\mathit{p}$-Value** enters!\n",
    "\n",
    "**$\\mathit{p}$-Value** is the probability of obtaining a result assuming that the null hypothesis is true. This value that leads this distribution, is the Z-Score!\n",
    "\n",
    "- For example if we have a high p-Value in a distribution that is based on \"My cousin have more money than I\", that would mean that, exactly, it is most-probable that he has more money so it is a solid hypothesis!\n",
    "\n",
    "- Nevertheless, if the p-Value is low in a distribution that is based on \"My cousin have more money than I\", that would mean that is most probable that he don´t have more money than you. In other words, that assumptions has a probability close to 0 of being true.\n",
    "\n",
    "Have you seen the similarities yet? They are in front of you! \n",
    "\n",
    "- **If we have a high p-Value that do not surpasses certain threshold, we will fail to reject $H_{0}$.**\n",
    "\n",
    "- **If we have a low p-Value that surpasses certain threshold, we will reject $H_{0}$ and we will keep $H_{A}$.**\n",
    "\n",
    "Let´s learn how to obtain the $\\mathit{p}$-Value."
   ]
  },
  {
   "cell_type": "markdown",
   "metadata": {},
   "source": [
    "------------------------------"
   ]
  },
  {
   "cell_type": "markdown",
   "metadata": {},
   "source": [
    "### How do we present it our case\n",
    "\n",
    "In our case we can see that:\n",
    "\n",
    "- We have a proportion of late shipments that is 6.1%\n",
    "- We estimated the proportion of late shipments in 6%\n",
    "\n",
    "- Our null hypothesis is that **the proportion of late shipments is 6%**\n",
    "- Our alternative hypothesis is that **the proportion of late shipments is more than 6%**\n",
    "\n",
    "Se we would need to perform a right-tailed test."
   ]
  },
  {
   "cell_type": "code",
   "execution_count": 35,
   "metadata": {},
   "outputs": [
    {
     "data": {
      "text/plain": [
       "0.44727397173519745"
      ]
     },
     "execution_count": 35,
     "metadata": {},
     "output_type": "execute_result"
    }
   ],
   "source": [
    "#Usign the package scipy.stats\n",
    "#Because it is a right-tailed test we do 1-cdf (Total probability - the probability of being in the left side.)\n",
    "\n",
    "p_value = 1 - norm.cdf(z_score,loc=0, scale=1)   \n",
    "p_value"
   ]
  },
  {
   "cell_type": "markdown",
   "metadata": {},
   "source": [
    "## Confidence intervals\n",
    "\n",
    "Now that we have a number, which is the threshold to consider it as accepted or rejected?\n",
    "\n",
    "It is called the **significance level** and is a threshold point for \"beyond a reasonable doubt\".\n",
    "\n",
    "- In case that is is true: $$p \\leq \\alpha$$\n",
    "\n",
    "We reject the null hypothesis $H_{0}$. In other case we fail the reject $H_{0}$.\n",
    "The usual value of $\\alpha$ is 0.05, so the confidence interval is 95%, it is 1-$\\alpha$.\n",
    "\n",
    "For example, the hypothesized proportion of late shipments was 6%. Even if evidence suggests the null hypothesis that the proportion of late shipments is equal to this, for any new sample of shipments, the proportion is likely to be a little different due to sampling variability. Consequently, it's a good idea to state a confidence interval."
   ]
  },
  {
   "cell_type": "code",
   "execution_count": 37,
   "metadata": {},
   "outputs": [
    {
     "name": "stdout",
     "output_type": "stream",
     "text": [
      "(0.046, 0.076)\n"
     ]
    }
   ],
   "source": [
    "# Our 95% confidence interval is:\n",
    "lower = np.quantile(late_shipments_boot_distn,0.025)\n",
    "upper = np.quantile(late_shipments_boot_distn,0.975)\n",
    "\n",
    "print((lower, upper))"
   ]
  },
  {
   "cell_type": "markdown",
   "metadata": {},
   "source": [
    "We would be saying that we are 95% confident that the proportion of late shipments is between 4.6% and 7.6%."
   ]
  },
  {
   "cell_type": "markdown",
   "metadata": {},
   "source": [
    "So, the conclusions for this hypothesis test would be, does the confidence interval match with the conclusion to stick with the original assumption that 6% is a reasonable value for the unknown population parameter?\n",
    "\n",
    "**The answer is Yes, because 0.06 is included in the confidence interval and we failed to reject $H_{0}$, due to a large $\\mathit{p}$-Value.**"
   ]
  },
  {
   "cell_type": "code",
   "execution_count": null,
   "metadata": {},
   "outputs": [],
   "source": []
  }
 ],
 "metadata": {
  "kernelspec": {
   "display_name": "base",
   "language": "python",
   "name": "python3"
  },
  "language_info": {
   "codemirror_mode": {
    "name": "ipython",
    "version": 3
   },
   "file_extension": ".py",
   "mimetype": "text/x-python",
   "name": "python",
   "nbconvert_exporter": "python",
   "pygments_lexer": "ipython3",
   "version": "3.11.5"
  }
 },
 "nbformat": 4,
 "nbformat_minor": 2
}
